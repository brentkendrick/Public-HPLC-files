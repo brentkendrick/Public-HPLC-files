{
  "nbformat": 4,
  "nbformat_minor": 0,
  "metadata": {
    "colab": {
      "name": "test_car.ipynb",
      "provenance": [],
      "authorship_tag": "ABX9TyO4WCqgTTgV9jiJzGHMq8SS",
      "include_colab_link": true
    },
    "kernelspec": {
      "name": "python3",
      "display_name": "Python 3"
    }
  },
  "cells": [
    {
      "cell_type": "markdown",
      "metadata": {
        "id": "view-in-github",
        "colab_type": "text"
      },
      "source": [
        "<a href=\"https://colab.research.google.com/github/brentkendrick/Public-HPLC-files/blob/master/test_car.ipynb\" target=\"_parent\"><img src=\"https://colab.research.google.com/assets/colab-badge.svg\" alt=\"Open In Colab\"/></a>"
      ]
    },
    {
      "cell_type": "code",
      "metadata": {
        "id": "5eXeZvEGLbeb",
        "colab_type": "code",
        "colab": {}
      },
      "source": [
        "import httpimport\n",
        "\n",
        "with httpimport.github_repo(username='brentkendrick', repo='Public-HPLC-files', module = 'car', branch = 'master'):\n",
        "  import car"
      ],
      "execution_count": 0,
      "outputs": []
    },
    {
      "cell_type": "code",
      "metadata": {
        "id": "yTuWRPM5yxbs",
        "colab_type": "code",
        "outputId": "56e95c7a-cb10-47f3-cb4f-0b078cebf157",
        "colab": {
          "base_uri": "https://localhost:8080/",
          "height": 89
        }
      },
      "source": [
        "from car import Car, ElectricCar\n",
        "\n",
        "\n",
        "my_tesla = ElectricCar('tesla', 'model s', 2016)\n",
        "my_beetle = Car('volkswagon', 'beetle', 2016)\n",
        "\n",
        "print(my_beetle.get_descriptive_name())\n",
        "\n",
        "print(my_tesla.get_descriptive_name())\n",
        "my_tesla.battery.describe_battery()\n",
        "my_tesla.battery.get_range()\n"
      ],
      "execution_count": 6,
      "outputs": [
        {
          "output_type": "stream",
          "text": [
            "2016 Volkswagon Beetle\n",
            "2016 Tesla Model S\n",
            "This car has a 70-kWh battery.\n",
            "This car can go approximately 240 miles on a full charge.\n"
          ],
          "name": "stdout"
        }
      ]
    }
  ]
}
